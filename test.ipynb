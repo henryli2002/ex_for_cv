{
 "cells": [
  {
   "cell_type": "code",
   "execution_count": 1,
   "metadata": {},
   "outputs": [
    {
     "name": "stdout",
     "output_type": "stream",
     "text": [
      "Detected circles: [(160, 205, 20), (118, 276, 22), (350, 129, 20), (47, 270, 29), (221, 201, 25), (45, 205, 20), (105, 203, 23), (349, 45, 30), (362, 194, 33), (283, 123, 25), (254, 274, 25), (106, 130, 20), (46, 129, 21), (162, 53, 24), (212, 129, 20), (289, 54, 20), (311, 274, 25), (225, 53, 23), (283, 200, 22), (373, 277, 23), (104, 60, 21), (162, 132, 18), (183, 271, 26)]\n",
      "Detected circles: [(323, 175, 45), (296, 94, 72), (70, 168, 49), (205, 137, 61), (123, 130, 45), (341, 206, 10), (358, 179, 11), (204, 170, 10), (305, 203, 12)]\n",
      "Detected circles: [(206, 46, 13), (291, 213, 14), (305, 54, 13), (125, 40, 13), (136, 163, 14), (237, 185, 13), (228, 126, 13), (190, 110, 13), (260, 144, 13), (133, 129, 13), (205, 176, 13), (248, 83, 13), (199, 140, 13), (284, 167, 14), (164, 77, 14)]\n"
     ]
    }
   ],
   "source": [
    "from PIL import Image\n",
    "from src.circle_detection import detect_circles, hough_circle_transform, draw_detected_circles, np2img\n",
    "from src.edge_detection import edge_detection, compress_image, apply_gaussian_blur, compute_gradients, non_maximum_suppression, double_threshold\n",
    "import os\n",
    "\n",
    "def list_image_names(directory):\n",
    "    \"\"\"\n",
    "    列出指定目录中所有图片文件的名称，不包括子目录。\n",
    "    \"\"\"\n",
    "    images = []\n",
    "    supported_extensions = ('.jpg', '.jpeg', '.png', '.gif', '.bmp')\n",
    "    for file in os.listdir(directory):\n",
    "        if file.endswith(supported_extensions):\n",
    "            images.append(file)\n",
    "    return images\n",
    "\n",
    "\n",
    "directory_path = './data/test_images'\n",
    "results_path = './data/results'\n",
    "images = list_image_names(directory_path)\n",
    "\n",
    "for image_name in images:\n",
    "    if not os.path.exists(f'{results_path}/{image_name}'):\n",
    "        os.makedirs(f'{results_path}/{image_name}')\n",
    "    \n",
    "    image = Image.open(f'./data/test_images/{image_name}').convert('RGB')\n",
    "    image = compress_image(image, base_width=400)  # 调整图像到固定大小，提高后续参数的可用性\n",
    "    blurred_image = apply_gaussian_blur(image)  # 参数可调\n",
    "    blurred_image.save(f'{results_path}/{image_name}/blurred_image.png')\n",
    "\n",
    "    gradient_magnitude, gradient_direction = compute_gradients(blurred_image)\n",
    "    np2img(gradient_magnitude).save(f'{results_path}/{image_name}/gradient.png')\n",
    "\n",
    "    nms_image = non_maximum_suppression(gradient_magnitude, gradient_direction)\n",
    "    edges = double_threshold(nms_image, low_threshold=70 , high_threshold=90)  # 参数可调\n",
    "    np2img(edges).save(f'{results_path}/{image_name}/edges.png')\n",
    "    \n",
    "    circles = hough_circle_transform(edges, radius_range=(10,100))  # 参数可调\n",
    "    result = draw_detected_circles(image, circles)\n",
    "    result.save(f'{results_path}/{image_name}/result.png')"
   ]
  },
  {
   "cell_type": "code",
   "execution_count": 8,
   "metadata": {},
   "outputs": [
    {
     "name": "stdout",
     "output_type": "stream",
     "text": [
      "[[[ 45.5 258.5  27.8]\n",
      "  [270.5 118.5  24.6]\n",
      "  [299.5 264.5  25.7]\n",
      "  [101.5 195.5  21.1]\n",
      "  [153.5 197.5  20. ]\n",
      "  [215.5  50.5  23. ]\n",
      "  [ 44.5 196.5  18.8]\n",
      "  [337.5 124.5  19.4]\n",
      "  [173.5 261.5  26.8]\n",
      "  [154.5  50.5  23.2]\n",
      "  [115.5 265.5  21. ]\n",
      "  [ 45.5 124.5  20.2]\n",
      "  [213.5 193.5  24. ]\n",
      "  [276.5  52.5  19.5]\n",
      "  [271.5 192.5  21.6]\n",
      "  [357.5 267.5  20.8]\n",
      "  [206.5 123.5  20.1]\n",
      "  [103.5 125.5  19.1]\n",
      "  [100.5  55.5  18.8]\n",
      "  [152.5 126.5  19.3]\n",
      "  [242.5 264.5  23. ]\n",
      "  [337.5  45.5  27.9]\n",
      "  [352.5 188.5  27.8]]]\n"
     ]
    }
   ],
   "source": [
    "import cv2\n",
    "from PIL import Image\n",
    "import numpy as np\n",
    "\n",
    "def detect_coins(image_path):\n",
    "    # 读取图像\n",
    "    img = cv2.imread(image_path)\n",
    "    gray = cv2.cvtColor(img, cv2.COLOR_BGR2GRAY)\n",
    "    \n",
    "    # # 高斯模糊\n",
    "    blurred = cv2.GaussianBlur(gray, (9, 9), 2)\n",
    "\n",
    "    # Canny边缘检测\n",
    "    edges = cv2.Canny(blurred, threshold1=50, threshold2=150)\n",
    "    # 显示边缘检测的结果\n",
    "    cv2.imshow('Edges', edges)\n",
    "\n",
    "    # 等待按键事件，然后关闭窗口\n",
    "    cv2.waitKey(0)\n",
    "    cv2.destroyAllWindows()\n",
    "    # 霍夫圆变换圆检测\n",
    "    circles = cv2.HoughCircles(edges, cv2.HOUGH_GRADIENT, 1, minDist=20,\n",
    "                               param1=50, param2=30, minRadius=10, maxRadius=100)\n",
    "    \n",
    "    if circles is not None:\n",
    "        circles = np.uint16(np.around(circles))\n",
    "        for i in circles[0, :]:\n",
    "            center = (i[0], i[1])  # 圆心(x, y)\n",
    "            radius = i[2]  # 半径\n",
    "            cv2.circle(img, center, radius, (255, 0, 0), 2)\n",
    "            cv2.circle(img, center, 2, (0, 255, 0), 3)\n",
    "    \n",
    "    cv2.imshow('Detected Coins', img)\n",
    "    cv2.waitKey(0)\n",
    "    cv2.destroyAllWindows()\n",
    "\n",
    "# 使用示例\n",
    "image_path = './data/test_images/image.png'\n",
    "detect_coins(image_path)\n"
   ]
  }
 ],
 "metadata": {
  "kernelspec": {
   "display_name": "Python 3",
   "language": "python",
   "name": "python3"
  },
  "language_info": {
   "codemirror_mode": {
    "name": "ipython",
    "version": 3
   },
   "file_extension": ".py",
   "mimetype": "text/x-python",
   "name": "python",
   "nbconvert_exporter": "python",
   "pygments_lexer": "ipython3",
   "version": "3.9.12"
  }
 },
 "nbformat": 4,
 "nbformat_minor": 2
}
