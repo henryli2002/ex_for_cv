{
 "cells": [
  {
   "cell_type": "code",
   "execution_count": 1,
   "metadata": {},
   "outputs": [
    {
     "name": "stdout",
     "output_type": "stream",
     "text": [
      "Detected circles: [(160, 205, 20), (118, 276, 22), (350, 129, 20), (47, 270, 29), (221, 201, 25), (45, 205, 20), (105, 203, 23), (349, 45, 30), (362, 194, 33), (283, 123, 25), (254, 274, 25), (106, 130, 20), (46, 129, 21), (162, 53, 24), (212, 129, 20), (289, 54, 20), (311, 274, 25), (225, 53, 23), (373, 277, 23), (283, 200, 22), (104, 60, 21), (162, 132, 18), (183, 271, 26)]\n",
      "Detected circles: [(323, 175, 45), (296, 94, 72), (70, 168, 49), (205, 137, 61), (123, 130, 45), (283, 133, 15)]\n"
     ]
    }
   ],
   "source": [
    "from PIL import Image\n",
    "from src.circle_detection import detect_circles, hough_circle_transform, draw_detected_circles, np2img\n",
    "from src.edge_detection import edge_detection, compress_image, apply_gaussian_blur, compute_gradients, non_maximum_suppression, double_threshold\n",
    "import os\n",
    "\n",
    "def list_image_names(directory):\n",
    "    \"\"\"\n",
    "    列出指定目录中所有图片文件的名称，不包括子目录。\n",
    "    \"\"\"\n",
    "    images = []\n",
    "    supported_extensions = ('.jpg', '.jpeg', '.png', '.gif', '.bmp')\n",
    "    for file in os.listdir(directory):\n",
    "        if file.endswith(supported_extensions):\n",
    "            images.append(file)\n",
    "    return images\n",
    "\n",
    "\n",
    "directory_path = './data/test_images'\n",
    "results_path = './data/results'\n",
    "images = list_image_names(directory_path)\n",
    "\n",
    "for image_name in images:\n",
    "    if not os.path.exists(f'{results_path}/{image_name}'):\n",
    "        os.makedirs(f'{results_path}/{image_name}')\n",
    "    \n",
    "    image = Image.open(f'./data/test_images/{image_name}').convert('RGB')\n",
    "    image = compress_image(image, base_width=400)  # 调整图像到固定大小，提高后续参数的可用性\n",
    "    blurred_image = apply_gaussian_blur(image)  # 参数可调\n",
    "    blurred_image.save(f'{results_path}/{image_name}/blurred_image.png')\n",
    "\n",
    "    gradient_magnitude, gradient_direction = compute_gradients(blurred_image)\n",
    "    np2img(gradient_magnitude).save(f'{results_path}/{image_name}/gradient.png')\n",
    "\n",
    "    nms_image = non_maximum_suppression(gradient_magnitude, gradient_direction)\n",
    "    edges = double_threshold(nms_image, low_threshold=70 , high_threshold=90)  # 参数可调\n",
    "    np2img(edges).save(f'{results_path}/{image_name}/edges.png')\n",
    "    \n",
    "    circles = hough_circle_transform(edges, radius_range=(15,100))  # 参数可调\n",
    "    result = draw_detected_circles(image, circles)\n",
    "    result.save(f'{results_path}/{image_name}/result.png')"
   ]
  },
  {
   "cell_type": "markdown",
   "metadata": {},
   "source": [
    "以下为easy version，可供参考"
   ]
  },
  {
   "cell_type": "code",
   "execution_count": 2,
   "metadata": {},
   "outputs": [],
   "source": [
    "import cv2\n",
    "from PIL import Image\n",
    "import numpy as np\n",
    "import os\n",
    "\n",
    "def resize_image_by_width(image, new_width):\n",
    "    \"\"\"\n",
    "    按比例调整图像宽度。\n",
    "\n",
    "    参数:\n",
    "    - image: 原始图像\n",
    "    - new_width: 新的宽度\n",
    "\n",
    "    返回:\n",
    "    - resized_image: 调整大小后的图像\n",
    "    \"\"\"\n",
    "    # 获取原始图像的尺寸\n",
    "    (h, w) = image.shape[:2]\n",
    "\n",
    "    # 计算宽度的缩放比例，并据此计算新的高度\n",
    "    ratio = new_width / float(w)\n",
    "    new_height = int(h * ratio)\n",
    "\n",
    "    # 调整图像大小\n",
    "    resized_image = cv2.resize(image, (new_width, new_height), interpolation=cv2.INTER_AREA)\n",
    "\n",
    "    return resized_image\n",
    "\n",
    "def list_image_names(directory):\n",
    "    \"\"\"\n",
    "    列出指定目录中所有图片文件的名称，不包括子目录。\n",
    "    \"\"\"\n",
    "    images = []\n",
    "    supported_extensions = ('.jpg', '.jpeg', '.png', '.gif', '.bmp')\n",
    "    for file in os.listdir(directory):\n",
    "        if file.endswith(supported_extensions):\n",
    "            images.append(file)\n",
    "    return images\n",
    "\n",
    "\n",
    "def detect_coins(image_path, save_path):\n",
    "    # 读取图像\n",
    "    img = cv2.imread(image_path)\n",
    "\n",
    "    resized_image = resize_image_by_width(img, 400)\n",
    "\n",
    "    gray = cv2.cvtColor(resized_image, cv2.COLOR_BGR2GRAY)\n",
    "    \n",
    "    # # 高斯模糊\n",
    "    blurred = cv2.GaussianBlur(gray, (9, 9), 2)\n",
    "\n",
    "    # Canny边缘检测\n",
    "    edges = cv2.Canny(blurred, threshold1=70, threshold2=90)\n",
    "    # 显示边缘检测的结果\n",
    "    cv2.imwrite(save_path, edges)\n",
    "\n",
    "directory_path = './data/test_images'\n",
    "results_path = './data/results'\n",
    "images = list_image_names(directory_path)\n",
    "for image_name in images:\n",
    "    save_path = f'{results_path}/{image_name}/cv2_edges.png'\n",
    "    detect_coins(f'./data/test_images/{image_name}', save_path)"
   ]
  },
  {
   "cell_type": "code",
   "execution_count": 7,
   "metadata": {},
   "outputs": [],
   "source": [
    "for image_name in images:\n",
    "    image = Image.open(f'./data/test_images/{image_name}').convert('RGB')\n",
    "    image = compress_image(image, base_width=400)  # 调整图像到固定大小，提高后续参数的可用性\n",
    "    blurred_image = apply_gaussian_blur(image, kernel_size=45, sigma=2)  # 参数可调\n",
    "    gradient_magnitude, gradient_direction = compute_gradients(blurred_image)\n",
    "    nms_image = non_maximum_suppression(gradient_magnitude, gradient_direction)\n",
    "    edges = double_threshold(nms_image, low_threshold=70 , high_threshold=90)  # 参数可调\n",
    "    np2img(edges).show()\n",
    "    break"
   ]
  }
 ],
 "metadata": {
  "kernelspec": {
   "display_name": "Python 3",
   "language": "python",
   "name": "python3"
  },
  "language_info": {
   "codemirror_mode": {
    "name": "ipython",
    "version": 3
   },
   "file_extension": ".py",
   "mimetype": "text/x-python",
   "name": "python",
   "nbconvert_exporter": "python",
   "pygments_lexer": "ipython3",
   "version": "3.9.12"
  }
 },
 "nbformat": 4,
 "nbformat_minor": 2
}
