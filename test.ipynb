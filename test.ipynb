{
 "cells": [
  {
   "cell_type": "code",
   "execution_count": 12,
   "metadata": {},
   "outputs": [
    {
     "name": "stdout",
     "output_type": "stream",
     "text": [
      "[]\n"
     ]
    }
   ],
   "source": [
    "from PIL import Image\n",
    "from src.circle_detection import detect_circles\n",
    "\n",
    "image = Image.open('./data/test_images/image.png')\n",
    "result = detect_circles(image, (10,100))\n",
    "\n",
    "# result.save('./data/results/result.png')"
   ]
  },
  {
   "cell_type": "code",
   "execution_count": 8,
   "metadata": {},
   "outputs": [
    {
     "name": "stdout",
     "output_type": "stream",
     "text": [
      "[[[ 45.5 258.5  27.8]\n",
      "  [270.5 118.5  24.6]\n",
      "  [299.5 264.5  25.7]\n",
      "  [101.5 195.5  21.1]\n",
      "  [153.5 197.5  20. ]\n",
      "  [215.5  50.5  23. ]\n",
      "  [ 44.5 196.5  18.8]\n",
      "  [337.5 124.5  19.4]\n",
      "  [173.5 261.5  26.8]\n",
      "  [154.5  50.5  23.2]\n",
      "  [115.5 265.5  21. ]\n",
      "  [ 45.5 124.5  20.2]\n",
      "  [213.5 193.5  24. ]\n",
      "  [276.5  52.5  19.5]\n",
      "  [271.5 192.5  21.6]\n",
      "  [357.5 267.5  20.8]\n",
      "  [206.5 123.5  20.1]\n",
      "  [103.5 125.5  19.1]\n",
      "  [100.5  55.5  18.8]\n",
      "  [152.5 126.5  19.3]\n",
      "  [242.5 264.5  23. ]\n",
      "  [337.5  45.5  27.9]\n",
      "  [352.5 188.5  27.8]]]\n"
     ]
    }
   ],
   "source": [
    "import cv2\n",
    "from PIL import Image\n",
    "import numpy as np\n",
    "\n",
    "def detect_coins(image_path):\n",
    "    # 读取图像\n",
    "    img = cv2.imread(image_path)\n",
    "    gray = cv2.cvtColor(img, cv2.COLOR_BGR2GRAY)\n",
    "    \n",
    "    # # 高斯模糊\n",
    "    blurred = cv2.GaussianBlur(gray, (9, 9), 2)\n",
    "\n",
    "    # Canny边缘检测\n",
    "    edges = cv2.Canny(blurred, threshold1=50, threshold2=150)\n",
    "    # 显示边缘检测的结果\n",
    "    cv2.imshow('Edges', edges)\n",
    "\n",
    "    # 等待按键事件，然后关闭窗口\n",
    "    cv2.waitKey(0)\n",
    "    cv2.destroyAllWindows()\n",
    "    # 霍夫圆变换圆检测\n",
    "    circles = cv2.HoughCircles(edges, cv2.HOUGH_GRADIENT, 1, minDist=20,\n",
    "                               param1=50, param2=30, minRadius=10, maxRadius=100)\n",
    "    \n",
    "    print(circles)\n",
    "    if circles is not None:\n",
    "        circles = np.uint16(np.around(circles))\n",
    "        for i in circles[0, :]:\n",
    "            center = (i[0], i[1])  # 圆心(x, y)\n",
    "            radius = i[2]  # 半径\n",
    "            cv2.circle(img, center, radius, (255, 0, 0), 2)\n",
    "            cv2.circle(img, center, 2, (0, 255, 0), 3)\n",
    "    \n",
    "    cv2.imshow('Detected Coins', img)\n",
    "    cv2.waitKey(0)\n",
    "    cv2.destroyAllWindows()\n",
    "\n",
    "# 使用示例\n",
    "image_path = './data/test_images/image.png'\n",
    "detect_coins(image_path)\n"
   ]
  }
 ],
 "metadata": {
  "kernelspec": {
   "display_name": "Python 3",
   "language": "python",
   "name": "python3"
  },
  "language_info": {
   "codemirror_mode": {
    "name": "ipython",
    "version": 3
   },
   "file_extension": ".py",
   "mimetype": "text/x-python",
   "name": "python",
   "nbconvert_exporter": "python",
   "pygments_lexer": "ipython3",
   "version": "3.9.12"
  }
 },
 "nbformat": 4,
 "nbformat_minor": 2
}
